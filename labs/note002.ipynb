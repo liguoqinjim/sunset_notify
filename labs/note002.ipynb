{
 "cells": [
  {
   "cell_type": "code",
   "execution_count": 3,
   "metadata": {},
   "outputs": [],
   "source": [
    "import langchain\n",
    "from langchain.llms import OpenAI\n",
    "from langchain import PromptTemplate, LLMChain"
   ]
  },
  {
   "cell_type": "code",
   "execution_count": 6,
   "metadata": {},
   "outputs": [],
   "source": [
    "template = \"\"\"Question: {question}\n",
    "Answer: Let's think step by step.\"\"\"\n",
    "\n",
    "prompt = PromptTemplate(template=template, input_variables=[\"question\"])\n",
    "\n",
    "llm = OpenAI()\n",
    "\n",
    "llm_chain = LLMChain(prompt=prompt, llm=llm)\n",
    "\n"
   ]
  },
  {
   "cell_type": "code",
   "execution_count": 7,
   "metadata": {},
   "outputs": [
    {
     "data": {
      "text/plain": [
       "'你好！很高兴认识你！'"
      ]
     },
     "execution_count": 7,
     "metadata": {},
     "output_type": "execute_result"
    }
   ],
   "source": [
    "question = \"你好啊\"\n",
    "\n",
    "llm_chain.run(question)"
   ]
  },
  {
   "cell_type": "markdown",
   "metadata": {},
   "source": [
    "# prompt\n",
    "这是一份今天的火烧云预测数据：\n",
    "```\n",
    "日期：2023-09-14\n",
    "北京时间：05:38:27\n",
    "海拔高度：6m\n",
    "太阳方位角：85.4°\n",
    "线速度：19. 8 km/min\n",
    "单层云量：100.0%\n",
    "遮挡云量：0.0%\n",
    "AOD-550:0.404\n",
    "质量（不含AOD):0.000\n",
    "空间不均匀性：0.000\n",
    "本地云属：\n",
    "层云，卷层云，高积云\n",
    "```\n",
    "下面是怎么使用这份数据的说明：\n",
    "```\n",
    "A0D550：550nm气溶胶光学厚度，用于部分表征大气透明度。注意潮湿污浊的大气会比干燥污浊的大气更不通透。干燥情况下参考标准：\n",
    "0.2以下：大气很通透，水晶天；\n",
    "0.2-0.4：还行，有蓝天；\n",
    "0.4-0.6：轻霾；\n",
    "0.6以上：霾。\n",
    "\n",
    "火烧云综合质量指数（也就是质量不含AOD）：考虑了某一水平范围内霞光鲜艳度面积，以及云量、时长、地面观赏视角计算得到的结果。不直接考虑大气通透度。\n",
    "0：可以认为今天没有火烧云\n",
    "0.1～0.5：火烧云质量一般，可能是因为颜色暗／云量少\n",
    "0.5～1：可观的火烧云，值得一看\n",
    "1～2：质量好的火烧云\n",
    "2以上：不仅质量好且持续时间很长\n",
    "```\n",
    "\n",
    "请你总结今天的火烧云质量，首先判断有没有火烧云，再判断火烧云的质量。如果有火烧云，输出火烧云质量，如果没有火烧云，输出“今天没有火烧云”。"
   ]
  },
  {
   "cell_type": "markdown",
   "metadata": {},
   "source": [
    "# prompt\n",
    "这是一份今天的火烧云预测数据：\n",
    "```\n",
    "日期：2023-09-14\n",
    "北京时间：05:38:27\n",
    "海拔高度：6m\n",
    "太阳方位角：85.4°\n",
    "线速度：19. 8 km/min\n",
    "单层云量：100.0%\n",
    "遮挡云量：0.0%\n",
    "AOD-550:0.404\n",
    "质量（不含AOD):0.000\n",
    "空间不均匀性：0.000\n",
    "本地云属：\n",
    "层云，卷层云，高积云\n",
    "```\n",
    "下面是怎么使用这份数据的说明：\n",
    "```\n",
    "A0D550：550nm气溶胶光学厚度，用于部分表征大气透明度。注意潮湿污浊的大气会比干燥污浊的大气更不通透。干燥情况下参考标准：\n",
    "0.2以下：大气很通透，水晶天；\n",
    "0.2-0.4：还行，有蓝天；\n",
    "0.4-0.6：轻霾；\n",
    "0.6以上：霾。\n",
    "\n",
    "火烧云综合质量指数（也就是质量不含AOD）：考虑了某一水平范围内霞光鲜艳度面积，以及云量、时长、地面观赏视角计算得到的结果。不直接考虑大气通透度。\n",
    "0：今天没有火烧云\n",
    "0.1～0.5：火烧云质量一般，可能是因为颜色暗／云量少\n",
    "0.5～1：可观的火烧云，值得一看\n",
    "1～2：质量好的火烧云\n",
    "2以上：不仅质量好且持续时间很长\n",
    "```\n",
    "\n",
    "请你总结今天的火烧云质量，首先判断有没有火烧云，再判断火烧云的质量。如果有火烧云，输出火烧云质量，如果没有火烧云，输出“今天没有火烧云”。\n",
    "请按照一下的格式输出：\n",
    "```\n",
    "{\n",
    "    \"date\":\"日期\"\n",
    "    \"time\":\"北京时间\"\n",
    "    \"rise_or_set\":\"这里通过时间判断是日出时间还是日落时间\",\n",
    "    \"quality\":\"这里填火烧云质量\"\n",
    "}\n",
    "```"
   ]
  },
  {
   "cell_type": "code",
   "execution_count": 20,
   "metadata": {},
   "outputs": [
    {
     "name": "stdout",
     "output_type": "stream",
     "text": [
      "output= \n",
      "\n",
      "输出结果：\n",
      "```\n",
      "{\n",
      "    \"date\": \"2023-09-14\",\n",
      "    \"time\": \"05:38:27\",\n",
      "    \"phase\": \"日出\",\n",
      "    \"aod550\": 0.404,\n",
      "    \"quality\": 0.0,\n",
      "    \"quality_report\": \"今天没有火烧云\"\n",
      "}\n",
      "```\n"
     ]
    },
    {
     "data": {
      "text/plain": [
       "SunsetReport(date='2023-09-14', time='05:38:27', phase='日出', aod550=0.404, quality=0.0, quality_report='今天没有火烧云')"
      ]
     },
     "execution_count": 20,
     "metadata": {},
     "output_type": "execute_result"
    }
   ],
   "source": [
    "\"\"\"\n",
    "A0D550：550nm气溶胶光学厚度，用于部分表征大气透明度。注意潮湿污浊的大气会比干燥污浊的大气更不通透。干燥情况下参考标准：\n",
    "0.2以下：大气很通透，水晶天；\n",
    "0.2-0.4：还行，有蓝天；\n",
    "0.4-0.6：轻霾；\n",
    "0.6以上：霾。\n",
    "\"\"\"\n",
    "\n",
    "template = \"\"\"这是一份今天的火烧云预测数据：\n",
    "```\n",
    "{report}\n",
    "```\n",
    "下面是怎么使用这份数据的说明：\n",
    "```\n",
    "质量（不含AOD)：\n",
    "0：今天没有火烧云\n",
    "0.1~0.5：火烧云质量一般，可能是因为颜色暗／云量少\n",
    "0.5~1：可观的火烧云，值得一看\n",
    "1~2：质量好的火烧云\n",
    "2以上：不仅质量好且持续时间很长\n",
    "```\n",
    "\n",
    "请你总结今天的火烧云质量。{format_instructions}。\n",
    "Let's think step by step, and output in chinese\"\"\"\n",
    "\n",
    "# prompt = PromptTemplate(template=template, input_variables=[\"report\"])\n",
    "prompt = PromptTemplate(template=template, input_variables=[\"report\"], partial_variables={\"format_instructions\": parser.get_format_instructions()},)\n",
    "\n",
    "llm = OpenAI()\n",
    "llm_chain = LLMChain(prompt=prompt, llm=llm)\n",
    "\n",
    "report = \"\"\"日期：2023-09-14\n",
    "北京时间：05:38:27\n",
    "海拔高度：6m\n",
    "太阳方位角：85.4°\n",
    "线速度：19. 8 km/min\n",
    "单层云量：100.0%\n",
    "遮挡云量：0.0%\n",
    "AOD-550:0.404\n",
    "质量（不含AOD):0.000\n",
    "空间不均匀性：0.000\n",
    "本地云属：\n",
    "层云，卷层云，高积云\n",
    "\"\"\"\n",
    "\n",
    "output = llm_chain.run(report)\n",
    "print(\"output=\",output)\n",
    "\n",
    "report = parser.parse(output)\n",
    "report"
   ]
  },
  {
   "cell_type": "code",
   "execution_count": 15,
   "metadata": {},
   "outputs": [],
   "source": [
    "from langchain.output_parsers import PydanticOutputParser\n",
    "from pydantic import BaseModel, Field, validator\n",
    "from typing import List\n",
    "# Define your desired data structure.\n",
    "class SunsetReport(BaseModel):\n",
    "    date: str = Field(description=\"报告中的日期\")\n",
    "    time: str = Field(description=\"报告中的时间\")\n",
    "    phase: str = Field(description=\"报告中的时间是属于日出还是日落，输出中文\")\n",
    "    aod550: float = Field(description=\"报告中的字段：AOD-550\")\n",
    "    quality: float = Field(description=\"报告中的字段：质量（不含AOD)\")\n",
    "    quality_report: str = Field(description=\"根据quality总结今天的火烧云质量\")\n",
    "\n",
    "    # # You can add custom validation logic easily with Pydantic.\n",
    "    # @validator(\"setup\")\n",
    "    # def question_ends_with_question_mark(cls, field):\n",
    "    #     if field[-1] != \"?\":\n",
    "    #         raise ValueError(\"Badly formed question!\")\n",
    "    #     return field\n",
    "\n",
    "parser = PydanticOutputParser(pydantic_object=SunsetReport)"
   ]
  },
  {
   "cell_type": "markdown",
   "metadata": {},
   "source": [
    "# Parser"
   ]
  },
  {
   "cell_type": "code",
   "execution_count": 2,
   "metadata": {},
   "outputs": [],
   "source": [
    "from langchain.prompts import PromptTemplate\n",
    "from langchain.output_parsers import DatetimeOutputParser\n",
    "from langchain.chains import LLMChain\n",
    "from langchain.llms import OpenAI\n",
    "\n",
    "output_parser = DatetimeOutputParser()\n",
    "template = \"\"\"Answer the users question:\n",
    "\n",
    "{question}\n",
    "\n",
    "{format_instructions}\"\"\"\n",
    "prompt = PromptTemplate.from_template(\n",
    "    template,\n",
    "    partial_variables={\"format_instructions\": output_parser.get_format_instructions()},\n",
    ")"
   ]
  },
  {
   "cell_type": "code",
   "execution_count": 3,
   "metadata": {},
   "outputs": [
    {
     "data": {
      "text/plain": [
       "'Write a datetime string that matches the \\n            following pattern: \"%Y-%m-%dT%H:%M:%S.%fZ\". Examples: 1945-08-09T07:04:16.900002Z, 1168-12-12T07:00:39.275551Z, 1748-08-22T13:42:45.630241Z'"
      ]
     },
     "execution_count": 3,
     "metadata": {},
     "output_type": "execute_result"
    }
   ],
   "source": [
    "output_parser.get_format_instructions()"
   ]
  }
 ],
 "metadata": {
  "kernelspec": {
   "display_name": "py310-labs",
   "language": "python",
   "name": "python3"
  },
  "language_info": {
   "codemirror_mode": {
    "name": "ipython",
    "version": 3
   },
   "file_extension": ".py",
   "mimetype": "text/x-python",
   "name": "python",
   "nbconvert_exporter": "python",
   "pygments_lexer": "ipython3",
   "version": "3.10.9"
  }
 },
 "nbformat": 4,
 "nbformat_minor": 2
}
