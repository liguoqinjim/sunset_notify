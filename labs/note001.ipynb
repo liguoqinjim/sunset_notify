{
 "cells": [
  {
   "cell_type": "markdown",
   "source": [
    "# 导出mitm脚本截取数据\n",
    "mitm_scripts/script002中的脚本，手动截取数据"
   ],
   "metadata": {
    "collapsed": false
   },
   "id": "194517642c304188"
  },
  {
   "cell_type": "code",
   "execution_count": 18,
   "id": "initial_id",
   "metadata": {
    "collapsed": true,
    "ExecuteTime": {
     "end_time": "2023-08-19T10:50:58.441348Z",
     "start_time": "2023-08-19T10:50:58.420407Z"
    }
   },
   "outputs": [],
   "source": [
    "import os.path\n",
    "\n",
    "import pandas as pd\n",
    "import json\n",
    "import glob"
   ]
  },
  {
   "cell_type": "code",
   "execution_count": 19,
   "outputs": [],
   "source": [
    "# 读取json文件\n",
    "with open('/Users/li/Workspace/github.com/weiboSpider/weibo/上海火烧云预测bot/7612166895.json', 'r',\n",
    "          encoding='utf-8') as f:\n",
    "    data = json.load(f)"
   ],
   "metadata": {
    "collapsed": false,
    "ExecuteTime": {
     "end_time": "2023-08-19T10:50:59.412405Z",
     "start_time": "2023-08-19T10:50:59.385927Z"
    }
   },
   "id": "4cc0cecf78103c29"
  },
  {
   "cell_type": "code",
   "execution_count": 20,
   "outputs": [
    {
     "data": {
      "text/plain": "          id user_id                                            content  \\\n0  MeJ5FnrSu          [置顶]《人工火烧云预测速成（长三角适用）》本文涉及气象学常识、云微物理知识、火烧云及其他气...   \n1  NfbKc2HPy          2023年8月19日日出，上海市区：【云属】：积云、高积云；【火烧云质量指数】： 0.001...   \n2  Nf818gsIj                                        8.18日落  [组图共5张] 原图    \n3  Nf80k2y6b          2023年8月18日日落，上海市区：【云属】： 积云，高积云；【火烧云质量指数】：0.000...   \n4  Nf2LzcMUC                                        8.18日出  [组图共5张] 原图    \n\n  article_url                                  original_pictures  \\\n0                                                              无   \n1              http://ww1.sinaimg.cn/large/008j9Slpgy1hh17weg...   \n2              http://ww1.sinaimg.cn/large/008j9Slpgy1hh0qyyo...   \n3              http://ww4.sinaimg.cn/large/008j9Slpgy1hh0qwn8...   \n4              http://ww3.sinaimg.cn/large/008j9Slpgy1hh04afj...   \n\n  retweet_pictures  original video_url publish_place      publish_time  \\\n0             None      True         无             无  2022-11-12 21:49   \n1             None      True         无             无  2023-08-18 21:30   \n2             None      True         无             无  2023-08-18 12:01   \n3             None      True         无             无  2023-08-18 11:59   \n4             None      True         无             无  2023-08-17 22:38   \n\n  publish_tool  up_num  retweet_num  comment_num  \n0        微博网页版     140           40           19  \n1        微博网页版       3            1            4  \n2        微博网页版       3            0            2  \n3        微博网页版       3            0            3  \n4        微博网页版       2            0            0  ",
      "text/html": "<div>\n<style scoped>\n    .dataframe tbody tr th:only-of-type {\n        vertical-align: middle;\n    }\n\n    .dataframe tbody tr th {\n        vertical-align: top;\n    }\n\n    .dataframe thead th {\n        text-align: right;\n    }\n</style>\n<table border=\"1\" class=\"dataframe\">\n  <thead>\n    <tr style=\"text-align: right;\">\n      <th></th>\n      <th>id</th>\n      <th>user_id</th>\n      <th>content</th>\n      <th>article_url</th>\n      <th>original_pictures</th>\n      <th>retweet_pictures</th>\n      <th>original</th>\n      <th>video_url</th>\n      <th>publish_place</th>\n      <th>publish_time</th>\n      <th>publish_tool</th>\n      <th>up_num</th>\n      <th>retweet_num</th>\n      <th>comment_num</th>\n    </tr>\n  </thead>\n  <tbody>\n    <tr>\n      <th>0</th>\n      <td>MeJ5FnrSu</td>\n      <td></td>\n      <td>[置顶]《人工火烧云预测速成（长三角适用）》本文涉及气象学常识、云微物理知识、火烧云及其他气...</td>\n      <td></td>\n      <td>无</td>\n      <td>None</td>\n      <td>True</td>\n      <td>无</td>\n      <td>无</td>\n      <td>2022-11-12 21:49</td>\n      <td>微博网页版</td>\n      <td>140</td>\n      <td>40</td>\n      <td>19</td>\n    </tr>\n    <tr>\n      <th>1</th>\n      <td>NfbKc2HPy</td>\n      <td></td>\n      <td>2023年8月19日日出，上海市区：【云属】：积云、高积云；【火烧云质量指数】： 0.001...</td>\n      <td></td>\n      <td>http://ww1.sinaimg.cn/large/008j9Slpgy1hh17weg...</td>\n      <td>None</td>\n      <td>True</td>\n      <td>无</td>\n      <td>无</td>\n      <td>2023-08-18 21:30</td>\n      <td>微博网页版</td>\n      <td>3</td>\n      <td>1</td>\n      <td>4</td>\n    </tr>\n    <tr>\n      <th>2</th>\n      <td>Nf818gsIj</td>\n      <td></td>\n      <td>8.18日落  [组图共5张] 原图</td>\n      <td></td>\n      <td>http://ww1.sinaimg.cn/large/008j9Slpgy1hh0qyyo...</td>\n      <td>None</td>\n      <td>True</td>\n      <td>无</td>\n      <td>无</td>\n      <td>2023-08-18 12:01</td>\n      <td>微博网页版</td>\n      <td>3</td>\n      <td>0</td>\n      <td>2</td>\n    </tr>\n    <tr>\n      <th>3</th>\n      <td>Nf80k2y6b</td>\n      <td></td>\n      <td>2023年8月18日日落，上海市区：【云属】： 积云，高积云；【火烧云质量指数】：0.000...</td>\n      <td></td>\n      <td>http://ww4.sinaimg.cn/large/008j9Slpgy1hh0qwn8...</td>\n      <td>None</td>\n      <td>True</td>\n      <td>无</td>\n      <td>无</td>\n      <td>2023-08-18 11:59</td>\n      <td>微博网页版</td>\n      <td>3</td>\n      <td>0</td>\n      <td>3</td>\n    </tr>\n    <tr>\n      <th>4</th>\n      <td>Nf2LzcMUC</td>\n      <td></td>\n      <td>8.18日出  [组图共5张] 原图</td>\n      <td></td>\n      <td>http://ww3.sinaimg.cn/large/008j9Slpgy1hh04afj...</td>\n      <td>None</td>\n      <td>True</td>\n      <td>无</td>\n      <td>无</td>\n      <td>2023-08-17 22:38</td>\n      <td>微博网页版</td>\n      <td>2</td>\n      <td>0</td>\n      <td>0</td>\n    </tr>\n  </tbody>\n</table>\n</div>"
     },
     "execution_count": 20,
     "metadata": {},
     "output_type": "execute_result"
    }
   ],
   "source": [
    "df_origin = pd.DataFrame(data['weibo'])\n",
    "df_origin.head()"
   ],
   "metadata": {
    "collapsed": false,
    "ExecuteTime": {
     "end_time": "2023-08-19T10:50:59.632835Z",
     "start_time": "2023-08-19T10:50:59.594385Z"
    }
   },
   "id": "33e1dea98a45821f"
  },
  {
   "cell_type": "code",
   "execution_count": 21,
   "outputs": [
    {
     "data": {
      "text/plain": "            id user_id                                            content  \\\n1    NfbKc2HPy          2023年8月19日日出，上海市区：【云属】：积云、高积云；【火烧云质量指数】： 0.001...   \n2    Nf818gsIj                                        8.18日落  [组图共5张] 原图    \n3    Nf80k2y6b          2023年8月18日日落，上海市区：【云属】： 积云，高积云；【火烧云质量指数】：0.000...   \n4    Nf2LzcMUC                                        8.18日出  [组图共5张] 原图    \n5    Nf1UkCePX          2023年8月18日日出，上海市区：【云属】：积云、复高积云；【火烧云质量指数】： 0.00...   \n..         ...     ...                                                ...   \n338  N30XquGqX          预计 2023年05月31日 日落时刻（18:51:06），上海市区（31.25°N，121...   \n339  N2XPpkIgF                                   5.30日落火烧云地图  [组图共3张] 原图    \n340  N2XOB6O4X          预计 2023年05月30日 日落时刻（18:50:32），上海市区（31.25°N，121...   \n341  N2RwW25Fh          预计 2023年05月30日 日落时刻（18:50:32），上海市区（31.25°N，121...   \n344  N2OLwlUHQ                                 5.29日落火烧云质量地图  [组图共4张] 原图    \n\n    article_url                                  original_pictures  \\\n1                http://ww1.sinaimg.cn/large/008j9Slpgy1hh17weg...   \n2                http://ww1.sinaimg.cn/large/008j9Slpgy1hh0qyyo...   \n3                http://ww4.sinaimg.cn/large/008j9Slpgy1hh0qwn8...   \n4                http://ww3.sinaimg.cn/large/008j9Slpgy1hh04afj...   \n5                http://ww4.sinaimg.cn/large/008j9Slpgy1hh00i4v...   \n..          ...                                                ...   \n338              http://ww1.sinaimg.cn/large/008j9Slpgy1hegn4sg...   \n339              http://ww3.sinaimg.cn/large/008j9Slpgy1heg6v9h...   \n340                                                              无   \n341              http://ww4.sinaimg.cn/large/008j9Slpgy1hefhhpn...   \n344              http://ww2.sinaimg.cn/large/008j9Slpgy1hef5w1y...   \n\n    retweet_pictures  original video_url publish_place      publish_time  \\\n1               None      True         无             无  2023-08-18 21:30   \n2               None      True         无             无  2023-08-18 12:01   \n3               None      True         无             无  2023-08-18 11:59   \n4               None      True         无             无  2023-08-17 22:38   \n5               None      True         无             无  2023-08-17 20:27   \n..               ...       ...       ...           ...               ...   \n338             None      True         无             无  2023-05-30 19:59   \n339             None      True         无             无  2023-05-30 12:01   \n340             None      True         无             无  2023-05-30 11:59   \n341             None      True         无             无  2023-05-29 19:59   \n344             None      True         无             无  2023-05-29 12:56   \n\n    publish_tool  up_num  retweet_num  comment_num  \n1          微博网页版       3            1            4  \n2          微博网页版       3            0            2  \n3          微博网页版       3            0            3  \n4          微博网页版       2            0            0  \n5          微博网页版       1            0            0  \n..           ...     ...          ...          ...  \n338        微博网页版       2            0            2  \n339        微博网页版       2            0            0  \n340        微博网页版       2            0            1  \n341        微博网页版       1            0            0  \n344        微博网页版       0            0            0  \n\n[305 rows x 14 columns]",
      "text/html": "<div>\n<style scoped>\n    .dataframe tbody tr th:only-of-type {\n        vertical-align: middle;\n    }\n\n    .dataframe tbody tr th {\n        vertical-align: top;\n    }\n\n    .dataframe thead th {\n        text-align: right;\n    }\n</style>\n<table border=\"1\" class=\"dataframe\">\n  <thead>\n    <tr style=\"text-align: right;\">\n      <th></th>\n      <th>id</th>\n      <th>user_id</th>\n      <th>content</th>\n      <th>article_url</th>\n      <th>original_pictures</th>\n      <th>retweet_pictures</th>\n      <th>original</th>\n      <th>video_url</th>\n      <th>publish_place</th>\n      <th>publish_time</th>\n      <th>publish_tool</th>\n      <th>up_num</th>\n      <th>retweet_num</th>\n      <th>comment_num</th>\n    </tr>\n  </thead>\n  <tbody>\n    <tr>\n      <th>1</th>\n      <td>NfbKc2HPy</td>\n      <td></td>\n      <td>2023年8月19日日出，上海市区：【云属】：积云、高积云；【火烧云质量指数】： 0.001...</td>\n      <td></td>\n      <td>http://ww1.sinaimg.cn/large/008j9Slpgy1hh17weg...</td>\n      <td>None</td>\n      <td>True</td>\n      <td>无</td>\n      <td>无</td>\n      <td>2023-08-18 21:30</td>\n      <td>微博网页版</td>\n      <td>3</td>\n      <td>1</td>\n      <td>4</td>\n    </tr>\n    <tr>\n      <th>2</th>\n      <td>Nf818gsIj</td>\n      <td></td>\n      <td>8.18日落  [组图共5张] 原图</td>\n      <td></td>\n      <td>http://ww1.sinaimg.cn/large/008j9Slpgy1hh0qyyo...</td>\n      <td>None</td>\n      <td>True</td>\n      <td>无</td>\n      <td>无</td>\n      <td>2023-08-18 12:01</td>\n      <td>微博网页版</td>\n      <td>3</td>\n      <td>0</td>\n      <td>2</td>\n    </tr>\n    <tr>\n      <th>3</th>\n      <td>Nf80k2y6b</td>\n      <td></td>\n      <td>2023年8月18日日落，上海市区：【云属】： 积云，高积云；【火烧云质量指数】：0.000...</td>\n      <td></td>\n      <td>http://ww4.sinaimg.cn/large/008j9Slpgy1hh0qwn8...</td>\n      <td>None</td>\n      <td>True</td>\n      <td>无</td>\n      <td>无</td>\n      <td>2023-08-18 11:59</td>\n      <td>微博网页版</td>\n      <td>3</td>\n      <td>0</td>\n      <td>3</td>\n    </tr>\n    <tr>\n      <th>4</th>\n      <td>Nf2LzcMUC</td>\n      <td></td>\n      <td>8.18日出  [组图共5张] 原图</td>\n      <td></td>\n      <td>http://ww3.sinaimg.cn/large/008j9Slpgy1hh04afj...</td>\n      <td>None</td>\n      <td>True</td>\n      <td>无</td>\n      <td>无</td>\n      <td>2023-08-17 22:38</td>\n      <td>微博网页版</td>\n      <td>2</td>\n      <td>0</td>\n      <td>0</td>\n    </tr>\n    <tr>\n      <th>5</th>\n      <td>Nf1UkCePX</td>\n      <td></td>\n      <td>2023年8月18日日出，上海市区：【云属】：积云、复高积云；【火烧云质量指数】： 0.00...</td>\n      <td></td>\n      <td>http://ww4.sinaimg.cn/large/008j9Slpgy1hh00i4v...</td>\n      <td>None</td>\n      <td>True</td>\n      <td>无</td>\n      <td>无</td>\n      <td>2023-08-17 20:27</td>\n      <td>微博网页版</td>\n      <td>1</td>\n      <td>0</td>\n      <td>0</td>\n    </tr>\n    <tr>\n      <th>...</th>\n      <td>...</td>\n      <td>...</td>\n      <td>...</td>\n      <td>...</td>\n      <td>...</td>\n      <td>...</td>\n      <td>...</td>\n      <td>...</td>\n      <td>...</td>\n      <td>...</td>\n      <td>...</td>\n      <td>...</td>\n      <td>...</td>\n      <td>...</td>\n    </tr>\n    <tr>\n      <th>338</th>\n      <td>N30XquGqX</td>\n      <td></td>\n      <td>预计 2023年05月31日 日落时刻（18:51:06），上海市区（31.25°N，121...</td>\n      <td></td>\n      <td>http://ww1.sinaimg.cn/large/008j9Slpgy1hegn4sg...</td>\n      <td>None</td>\n      <td>True</td>\n      <td>无</td>\n      <td>无</td>\n      <td>2023-05-30 19:59</td>\n      <td>微博网页版</td>\n      <td>2</td>\n      <td>0</td>\n      <td>2</td>\n    </tr>\n    <tr>\n      <th>339</th>\n      <td>N2XPpkIgF</td>\n      <td></td>\n      <td>5.30日落火烧云地图  [组图共3张] 原图</td>\n      <td></td>\n      <td>http://ww3.sinaimg.cn/large/008j9Slpgy1heg6v9h...</td>\n      <td>None</td>\n      <td>True</td>\n      <td>无</td>\n      <td>无</td>\n      <td>2023-05-30 12:01</td>\n      <td>微博网页版</td>\n      <td>2</td>\n      <td>0</td>\n      <td>0</td>\n    </tr>\n    <tr>\n      <th>340</th>\n      <td>N2XOB6O4X</td>\n      <td></td>\n      <td>预计 2023年05月30日 日落时刻（18:50:32），上海市区（31.25°N，121...</td>\n      <td></td>\n      <td>无</td>\n      <td>None</td>\n      <td>True</td>\n      <td>无</td>\n      <td>无</td>\n      <td>2023-05-30 11:59</td>\n      <td>微博网页版</td>\n      <td>2</td>\n      <td>0</td>\n      <td>1</td>\n    </tr>\n    <tr>\n      <th>341</th>\n      <td>N2RwW25Fh</td>\n      <td></td>\n      <td>预计 2023年05月30日 日落时刻（18:50:32），上海市区（31.25°N，121...</td>\n      <td></td>\n      <td>http://ww4.sinaimg.cn/large/008j9Slpgy1hefhhpn...</td>\n      <td>None</td>\n      <td>True</td>\n      <td>无</td>\n      <td>无</td>\n      <td>2023-05-29 19:59</td>\n      <td>微博网页版</td>\n      <td>1</td>\n      <td>0</td>\n      <td>0</td>\n    </tr>\n    <tr>\n      <th>344</th>\n      <td>N2OLwlUHQ</td>\n      <td></td>\n      <td>5.29日落火烧云质量地图  [组图共4张] 原图</td>\n      <td></td>\n      <td>http://ww2.sinaimg.cn/large/008j9Slpgy1hef5w1y...</td>\n      <td>None</td>\n      <td>True</td>\n      <td>无</td>\n      <td>无</td>\n      <td>2023-05-29 12:56</td>\n      <td>微博网页版</td>\n      <td>0</td>\n      <td>0</td>\n      <td>0</td>\n    </tr>\n  </tbody>\n</table>\n<p>305 rows × 14 columns</p>\n</div>"
     },
     "execution_count": 21,
     "metadata": {},
     "output_type": "execute_result"
    }
   ],
   "source": [
    "# 查找content列中，包含`组图共`这个字符串的行\n",
    "df = df_origin.copy()\n",
    "df = df[df['content'].str.contains('组图共')]\n",
    "df"
   ],
   "metadata": {
    "collapsed": false,
    "ExecuteTime": {
     "end_time": "2023-08-19T10:50:59.871328Z",
     "start_time": "2023-08-19T10:50:59.835509Z"
    }
   },
   "id": "4b44e1e2a7a88064"
  },
  {
   "cell_type": "markdown",
   "source": [
    "# 读取mitm脚本截取的json文件"
   ],
   "metadata": {
    "collapsed": false
   },
   "id": "92edd9e06aaf6fc0"
  },
  {
   "cell_type": "code",
   "execution_count": 34,
   "outputs": [],
   "source": [
    "filepaths = glob.glob(os.path.join(\"/Users/li/Workspace/github.com/mitm_scripts/script002/data/7612166895\", \"*.json\"))\n",
    "\n",
    "\n",
    "def load_data(filepath):\n",
    "    # 读取json文件\n",
    "    with open(filepath, 'r', encoding='utf-8') as f:\n",
    "        data = json.load(f)\n",
    "\n",
    "    return data['data']['list']\n",
    "\n",
    "\n",
    "weibos = []\n",
    "for _fp in filepaths:\n",
    "    data = load_data(_fp)\n",
    "    weibos.extend(data)\n"
   ],
   "metadata": {
    "collapsed": false,
    "ExecuteTime": {
     "end_time": "2023-08-19T11:17:53.610516Z",
     "start_time": "2023-08-19T11:17:53.495434Z"
    }
   },
   "id": "33f8f41f86d7d51c"
  },
  {
   "cell_type": "code",
   "execution_count": 53,
   "outputs": [
    {
     "data": {
      "text/plain": "                     visible                      created_at  \\\n0  {'type': 0, 'list_id': 0}  Mon May 02 20:59:16 +0800 2022   \n1  {'type': 0, 'list_id': 0}  Mon May 02 00:00:23 +0800 2022   \n2  {'type': 0, 'list_id': 0}  Sun May 01 20:26:44 +0800 2022   \n3  {'type': 0, 'list_id': 0}  Sun May 01 11:08:47 +0800 2022   \n4  {'type': 0, 'list_id': 0}  Sat Apr 30 22:03:15 +0800 2022   \n\n                 id             idstr               mid    mblogid  \\\n0  4764783427191023  4764783427191023  4764783427191023  LrbjouaIf   \n1  4764466615423925  4764466615423925  4764466615423925  Lr34pmL0F   \n2  4764412852830343  4764412852830343  4764412852830343  Lr1FHbSiH   \n3  4764272435399264  4764272435399264  4764272435399264  LqY1dmEAU   \n4  4764074748941826  4764074748941826  4764074748941826  LqSSmBwb0   \n\n                                                user  can_edit    text_raw  \\\n0  {'id': 7612166895, 'idstr': '7612166895', 'pc_...     False    详细信息 ​​​   \n1  {'id': 7612166895, 'idstr': '7612166895', 'pc_...     False  明天日出云属 ​​​   \n2  {'id': 7612166895, 'idstr': '7612166895', 'pc_...     False  少量卷云朝霞 ​​​   \n3  {'id': 7612166895, 'idstr': '7612166895', 'pc_...     False       - ​​​   \n4  {'id': 7612166895, 'idstr': '7612166895', 'pc_...     False   不是很典型 ​​​   \n\n         text  ...  rcList region_name customIcons  edit_count continue_tag  \\\n0    详细信息 ​​​  ...      []      发布于 上海          []         NaN          NaN   \n1  明天日出云属 ​​​  ...      []      发布于 上海          []         NaN          NaN   \n2  少量卷云朝霞 ​​​  ...      []      发布于 上海          []         NaN          NaN   \n3       - ​​​  ...      []      发布于 上海          []         NaN          NaN   \n4   不是很典型 ​​​  ...      []         NaN          []         NaN          NaN   \n\n  url_struct pic_focus_point  page_info title  tag_struct  \n0        NaN             NaN        NaN   NaN         NaN  \n1        NaN             NaN        NaN   NaN         NaN  \n2        NaN             NaN        NaN   NaN         NaN  \n3        NaN             NaN        NaN   NaN         NaN  \n4        NaN             NaN        NaN   NaN         NaN  \n\n[5 rows x 47 columns]",
      "text/html": "<div>\n<style scoped>\n    .dataframe tbody tr th:only-of-type {\n        vertical-align: middle;\n    }\n\n    .dataframe tbody tr th {\n        vertical-align: top;\n    }\n\n    .dataframe thead th {\n        text-align: right;\n    }\n</style>\n<table border=\"1\" class=\"dataframe\">\n  <thead>\n    <tr style=\"text-align: right;\">\n      <th></th>\n      <th>visible</th>\n      <th>created_at</th>\n      <th>id</th>\n      <th>idstr</th>\n      <th>mid</th>\n      <th>mblogid</th>\n      <th>user</th>\n      <th>can_edit</th>\n      <th>text_raw</th>\n      <th>text</th>\n      <th>...</th>\n      <th>rcList</th>\n      <th>region_name</th>\n      <th>customIcons</th>\n      <th>edit_count</th>\n      <th>continue_tag</th>\n      <th>url_struct</th>\n      <th>pic_focus_point</th>\n      <th>page_info</th>\n      <th>title</th>\n      <th>tag_struct</th>\n    </tr>\n  </thead>\n  <tbody>\n    <tr>\n      <th>0</th>\n      <td>{'type': 0, 'list_id': 0}</td>\n      <td>Mon May 02 20:59:16 +0800 2022</td>\n      <td>4764783427191023</td>\n      <td>4764783427191023</td>\n      <td>4764783427191023</td>\n      <td>LrbjouaIf</td>\n      <td>{'id': 7612166895, 'idstr': '7612166895', 'pc_...</td>\n      <td>False</td>\n      <td>详细信息 ​​​</td>\n      <td>详细信息 ​​​</td>\n      <td>...</td>\n      <td>[]</td>\n      <td>发布于 上海</td>\n      <td>[]</td>\n      <td>NaN</td>\n      <td>NaN</td>\n      <td>NaN</td>\n      <td>NaN</td>\n      <td>NaN</td>\n      <td>NaN</td>\n      <td>NaN</td>\n    </tr>\n    <tr>\n      <th>1</th>\n      <td>{'type': 0, 'list_id': 0}</td>\n      <td>Mon May 02 00:00:23 +0800 2022</td>\n      <td>4764466615423925</td>\n      <td>4764466615423925</td>\n      <td>4764466615423925</td>\n      <td>Lr34pmL0F</td>\n      <td>{'id': 7612166895, 'idstr': '7612166895', 'pc_...</td>\n      <td>False</td>\n      <td>明天日出云属 ​​​</td>\n      <td>明天日出云属 ​​​</td>\n      <td>...</td>\n      <td>[]</td>\n      <td>发布于 上海</td>\n      <td>[]</td>\n      <td>NaN</td>\n      <td>NaN</td>\n      <td>NaN</td>\n      <td>NaN</td>\n      <td>NaN</td>\n      <td>NaN</td>\n      <td>NaN</td>\n    </tr>\n    <tr>\n      <th>2</th>\n      <td>{'type': 0, 'list_id': 0}</td>\n      <td>Sun May 01 20:26:44 +0800 2022</td>\n      <td>4764412852830343</td>\n      <td>4764412852830343</td>\n      <td>4764412852830343</td>\n      <td>Lr1FHbSiH</td>\n      <td>{'id': 7612166895, 'idstr': '7612166895', 'pc_...</td>\n      <td>False</td>\n      <td>少量卷云朝霞 ​​​</td>\n      <td>少量卷云朝霞 ​​​</td>\n      <td>...</td>\n      <td>[]</td>\n      <td>发布于 上海</td>\n      <td>[]</td>\n      <td>NaN</td>\n      <td>NaN</td>\n      <td>NaN</td>\n      <td>NaN</td>\n      <td>NaN</td>\n      <td>NaN</td>\n      <td>NaN</td>\n    </tr>\n    <tr>\n      <th>3</th>\n      <td>{'type': 0, 'list_id': 0}</td>\n      <td>Sun May 01 11:08:47 +0800 2022</td>\n      <td>4764272435399264</td>\n      <td>4764272435399264</td>\n      <td>4764272435399264</td>\n      <td>LqY1dmEAU</td>\n      <td>{'id': 7612166895, 'idstr': '7612166895', 'pc_...</td>\n      <td>False</td>\n      <td>- ​​​</td>\n      <td>- ​​​</td>\n      <td>...</td>\n      <td>[]</td>\n      <td>发布于 上海</td>\n      <td>[]</td>\n      <td>NaN</td>\n      <td>NaN</td>\n      <td>NaN</td>\n      <td>NaN</td>\n      <td>NaN</td>\n      <td>NaN</td>\n      <td>NaN</td>\n    </tr>\n    <tr>\n      <th>4</th>\n      <td>{'type': 0, 'list_id': 0}</td>\n      <td>Sat Apr 30 22:03:15 +0800 2022</td>\n      <td>4764074748941826</td>\n      <td>4764074748941826</td>\n      <td>4764074748941826</td>\n      <td>LqSSmBwb0</td>\n      <td>{'id': 7612166895, 'idstr': '7612166895', 'pc_...</td>\n      <td>False</td>\n      <td>不是很典型 ​​​</td>\n      <td>不是很典型 ​​​</td>\n      <td>...</td>\n      <td>[]</td>\n      <td>NaN</td>\n      <td>[]</td>\n      <td>NaN</td>\n      <td>NaN</td>\n      <td>NaN</td>\n      <td>NaN</td>\n      <td>NaN</td>\n      <td>NaN</td>\n      <td>NaN</td>\n    </tr>\n  </tbody>\n</table>\n<p>5 rows × 47 columns</p>\n</div>"
     },
     "execution_count": 53,
     "metadata": {},
     "output_type": "execute_result"
    }
   ],
   "source": [
    "df_origin = pd.DataFrame(weibos)\n",
    "df_origin.head()"
   ],
   "metadata": {
    "collapsed": false,
    "ExecuteTime": {
     "end_time": "2023-08-19T11:31:50.765646Z",
     "start_time": "2023-08-19T11:31:50.734887Z"
    }
   },
   "id": "9c436ec0c722da0c"
  },
  {
   "cell_type": "code",
   "execution_count": 54,
   "outputs": [
    {
     "data": {
      "text/plain": "Index(['visible', 'created_at', 'id', 'idstr', 'mid', 'mblogid', 'user',\n       'can_edit', 'text_raw', 'text', 'textLength', 'annotations', 'source',\n       'favorited', 'rid', 'pic_ids', 'geo', 'pic_num', 'pic_infos', 'is_paid',\n       'mblog_vip_type', 'number_display_strategy', 'reposts_count',\n       'comments_count', 'attitudes_count', 'attitudes_status', 'isLongText',\n       'mlevel', 'content_auth', 'is_show_bulletin', 'comment_manage_info',\n       'share_repost_type', 'mblogtype', 'showFeedRepost', 'showFeedComment',\n       'pictureViewerSign', 'showPictureViewer', 'rcList', 'region_name',\n       'customIcons', 'edit_count', 'continue_tag', 'url_struct',\n       'pic_focus_point', 'page_info', 'title', 'tag_struct'],\n      dtype='object')"
     },
     "execution_count": 54,
     "metadata": {},
     "output_type": "execute_result"
    }
   ],
   "source": [
    "df_origin.columns"
   ],
   "metadata": {
    "collapsed": false,
    "ExecuteTime": {
     "end_time": "2023-08-19T11:31:52.570314Z",
     "start_time": "2023-08-19T11:31:52.551906Z"
    }
   },
   "id": "5f526080fc600c40"
  },
  {
   "cell_type": "code",
   "execution_count": 55,
   "outputs": [
    {
     "data": {
      "text/plain": "                 id                      created_at    mblogid    text_raw  \\\n0  4764783427191023  Mon May 02 20:59:16 +0800 2022  LrbjouaIf    详细信息 ​​​   \n1  4764466615423925  Mon May 02 00:00:23 +0800 2022  Lr34pmL0F  明天日出云属 ​​​   \n2  4764412852830343  Sun May 01 20:26:44 +0800 2022  Lr1FHbSiH  少量卷云朝霞 ​​​   \n3  4764272435399264  Sun May 01 11:08:47 +0800 2022  LqY1dmEAU       - ​​​   \n4  4764074748941826  Sat Apr 30 22:03:15 +0800 2022  LqSSmBwb0   不是很典型 ​​​   \n\n   textLength source  pic_num  \n0           8  微博网页版        4  \n1          12  微博网页版        1  \n2          12  微博网页版        2  \n3           1  微博网页版        2  \n4          10  微博网页版        2  ",
      "text/html": "<div>\n<style scoped>\n    .dataframe tbody tr th:only-of-type {\n        vertical-align: middle;\n    }\n\n    .dataframe tbody tr th {\n        vertical-align: top;\n    }\n\n    .dataframe thead th {\n        text-align: right;\n    }\n</style>\n<table border=\"1\" class=\"dataframe\">\n  <thead>\n    <tr style=\"text-align: right;\">\n      <th></th>\n      <th>id</th>\n      <th>created_at</th>\n      <th>mblogid</th>\n      <th>text_raw</th>\n      <th>textLength</th>\n      <th>source</th>\n      <th>pic_num</th>\n    </tr>\n  </thead>\n  <tbody>\n    <tr>\n      <th>0</th>\n      <td>4764783427191023</td>\n      <td>Mon May 02 20:59:16 +0800 2022</td>\n      <td>LrbjouaIf</td>\n      <td>详细信息 ​​​</td>\n      <td>8</td>\n      <td>微博网页版</td>\n      <td>4</td>\n    </tr>\n    <tr>\n      <th>1</th>\n      <td>4764466615423925</td>\n      <td>Mon May 02 00:00:23 +0800 2022</td>\n      <td>Lr34pmL0F</td>\n      <td>明天日出云属 ​​​</td>\n      <td>12</td>\n      <td>微博网页版</td>\n      <td>1</td>\n    </tr>\n    <tr>\n      <th>2</th>\n      <td>4764412852830343</td>\n      <td>Sun May 01 20:26:44 +0800 2022</td>\n      <td>Lr1FHbSiH</td>\n      <td>少量卷云朝霞 ​​​</td>\n      <td>12</td>\n      <td>微博网页版</td>\n      <td>2</td>\n    </tr>\n    <tr>\n      <th>3</th>\n      <td>4764272435399264</td>\n      <td>Sun May 01 11:08:47 +0800 2022</td>\n      <td>LqY1dmEAU</td>\n      <td>- ​​​</td>\n      <td>1</td>\n      <td>微博网页版</td>\n      <td>2</td>\n    </tr>\n    <tr>\n      <th>4</th>\n      <td>4764074748941826</td>\n      <td>Sat Apr 30 22:03:15 +0800 2022</td>\n      <td>LqSSmBwb0</td>\n      <td>不是很典型 ​​​</td>\n      <td>10</td>\n      <td>微博网页版</td>\n      <td>2</td>\n    </tr>\n  </tbody>\n</table>\n</div>"
     },
     "execution_count": 55,
     "metadata": {},
     "output_type": "execute_result"
    }
   ],
   "source": [
    "cols = ['id', 'created_at', 'mblogid',\n",
    "        'text_raw', 'textLength', 'source', 'pic_num']\n",
    "df = df_origin[cols].copy()\n",
    "df.head()"
   ],
   "metadata": {
    "collapsed": false,
    "ExecuteTime": {
     "end_time": "2023-08-19T11:31:53.613868Z",
     "start_time": "2023-08-19T11:31:53.596293Z"
    }
   },
   "id": "6bbd126918d644a2"
  },
  {
   "cell_type": "code",
   "execution_count": 57,
   "outputs": [
    {
     "data": {
      "text/plain": "                 id           created_at    mblogid    text_raw  textLength  \\\n0  4764783427191023  2022-05-02 20:59:16  LrbjouaIf    详细信息 ​​​           8   \n1  4764466615423925  2022-05-02 00:00:23  Lr34pmL0F  明天日出云属 ​​​          12   \n2  4764412852830343  2022-05-01 20:26:44  Lr1FHbSiH  少量卷云朝霞 ​​​          12   \n3  4764272435399264  2022-05-01 11:08:47  LqY1dmEAU       - ​​​           1   \n4  4764074748941826  2022-04-30 22:03:15  LqSSmBwb0   不是很典型 ​​​          10   \n\n  source  pic_num  \n0  微博网页版        4  \n1  微博网页版        1  \n2  微博网页版        2  \n3  微博网页版        2  \n4  微博网页版        2  ",
      "text/html": "<div>\n<style scoped>\n    .dataframe tbody tr th:only-of-type {\n        vertical-align: middle;\n    }\n\n    .dataframe tbody tr th {\n        vertical-align: top;\n    }\n\n    .dataframe thead th {\n        text-align: right;\n    }\n</style>\n<table border=\"1\" class=\"dataframe\">\n  <thead>\n    <tr style=\"text-align: right;\">\n      <th></th>\n      <th>id</th>\n      <th>created_at</th>\n      <th>mblogid</th>\n      <th>text_raw</th>\n      <th>textLength</th>\n      <th>source</th>\n      <th>pic_num</th>\n    </tr>\n  </thead>\n  <tbody>\n    <tr>\n      <th>0</th>\n      <td>4764783427191023</td>\n      <td>2022-05-02 20:59:16</td>\n      <td>LrbjouaIf</td>\n      <td>详细信息 ​​​</td>\n      <td>8</td>\n      <td>微博网页版</td>\n      <td>4</td>\n    </tr>\n    <tr>\n      <th>1</th>\n      <td>4764466615423925</td>\n      <td>2022-05-02 00:00:23</td>\n      <td>Lr34pmL0F</td>\n      <td>明天日出云属 ​​​</td>\n      <td>12</td>\n      <td>微博网页版</td>\n      <td>1</td>\n    </tr>\n    <tr>\n      <th>2</th>\n      <td>4764412852830343</td>\n      <td>2022-05-01 20:26:44</td>\n      <td>Lr1FHbSiH</td>\n      <td>少量卷云朝霞 ​​​</td>\n      <td>12</td>\n      <td>微博网页版</td>\n      <td>2</td>\n    </tr>\n    <tr>\n      <th>3</th>\n      <td>4764272435399264</td>\n      <td>2022-05-01 11:08:47</td>\n      <td>LqY1dmEAU</td>\n      <td>- ​​​</td>\n      <td>1</td>\n      <td>微博网页版</td>\n      <td>2</td>\n    </tr>\n    <tr>\n      <th>4</th>\n      <td>4764074748941826</td>\n      <td>2022-04-30 22:03:15</td>\n      <td>LqSSmBwb0</td>\n      <td>不是很典型 ​​​</td>\n      <td>10</td>\n      <td>微博网页版</td>\n      <td>2</td>\n    </tr>\n  </tbody>\n</table>\n</div>"
     },
     "execution_count": 57,
     "metadata": {},
     "output_type": "execute_result"
    }
   ],
   "source": [
    "# created_at列的格式为`Sat Oct 01 19:59:00 +0800 2022`，把这列转换为datetime类型\n",
    "df['created_at'] = pd.to_datetime(df['created_at'])\n",
    "# created_at转换为格式如下的字符串,`2023-08-10 11:59:00`\n",
    "df['created_at'] = df['created_at'].dt.strftime('%Y-%m-%d %H:%M:%S')\n",
    "df.head()"
   ],
   "metadata": {
    "collapsed": false,
    "ExecuteTime": {
     "end_time": "2023-08-19T11:32:02.206954Z",
     "start_time": "2023-08-19T11:32:02.203763Z"
    }
   },
   "id": "2f6d4b5055b6f33b"
  },
  {
   "cell_type": "code",
   "execution_count": 58,
   "outputs": [
    {
     "data": {
      "text/plain": "                 id      full_created_at  \\\n0  4936419309523822  2023-08-19 11:59:00   \n1  4936200680645144  2023-08-18 21:30:15   \n2  4936056920607735  2023-08-18 11:59:00   \n3  4935822569113501  2023-08-17 20:27:46   \n4  4935695070137329  2023-08-17 12:01:08   \n\n                                                text  \n0  2023年8月19日日落，上海市区：\\n【云属】： 积云；\\n【火烧云质量指数】：0.000...  \n1  2023年8月19日日出，上海市区：\\n【云属】：积云、高积云；\\n【火烧云质量指数】： 0...  \n2  2023年8月18日日落，上海市区：\\n【云属】： 积云，高积云；\\n【火烧云质量指数】：0...  \n3  2023年8月18日日出，上海市区：\\n【云属】：积云、复高积云；\\n【火烧云质量指数】： ...  \n4  2023年8月17日日落，上海市区：\\n【云属】： 积云，高层云；\\n【火烧云质量指数】：0...  ",
      "text/html": "<div>\n<style scoped>\n    .dataframe tbody tr th:only-of-type {\n        vertical-align: middle;\n    }\n\n    .dataframe tbody tr th {\n        vertical-align: top;\n    }\n\n    .dataframe thead th {\n        text-align: right;\n    }\n</style>\n<table border=\"1\" class=\"dataframe\">\n  <thead>\n    <tr style=\"text-align: right;\">\n      <th></th>\n      <th>id</th>\n      <th>full_created_at</th>\n      <th>text</th>\n    </tr>\n  </thead>\n  <tbody>\n    <tr>\n      <th>0</th>\n      <td>4936419309523822</td>\n      <td>2023-08-19 11:59:00</td>\n      <td>2023年8月19日日落，上海市区：\\n【云属】： 积云；\\n【火烧云质量指数】：0.000...</td>\n    </tr>\n    <tr>\n      <th>1</th>\n      <td>4936200680645144</td>\n      <td>2023-08-18 21:30:15</td>\n      <td>2023年8月19日日出，上海市区：\\n【云属】：积云、高积云；\\n【火烧云质量指数】： 0...</td>\n    </tr>\n    <tr>\n      <th>2</th>\n      <td>4936056920607735</td>\n      <td>2023-08-18 11:59:00</td>\n      <td>2023年8月18日日落，上海市区：\\n【云属】： 积云，高积云；\\n【火烧云质量指数】：0...</td>\n    </tr>\n    <tr>\n      <th>3</th>\n      <td>4935822569113501</td>\n      <td>2023-08-17 20:27:46</td>\n      <td>2023年8月18日日出，上海市区：\\n【云属】：积云、复高积云；\\n【火烧云质量指数】： ...</td>\n    </tr>\n    <tr>\n      <th>4</th>\n      <td>4935695070137329</td>\n      <td>2023-08-17 12:01:08</td>\n      <td>2023年8月17日日落，上海市区：\\n【云属】： 积云，高层云；\\n【火烧云质量指数】：0...</td>\n    </tr>\n  </tbody>\n</table>\n</div>"
     },
     "execution_count": 58,
     "metadata": {},
     "output_type": "execute_result"
    }
   ],
   "source": [
    "# 按照created_at列进行排序\n",
    "df.sort_values(by='created_at', inplace=True, ascending=False)\n",
    "# 过滤textLength列小于等于8的\n",
    "df = df[df['textLength'] > 8]\n",
    "# 重建索引\n",
    "df.reset_index(drop=True, inplace=True)\n",
    "# 删除列\n",
    "df.drop(columns=['textLength', 'mblogid', 'source', 'pic_num'], inplace=True)\n",
    "# 重命名列\n",
    "df.rename(columns={ 'created_at': 'full_created_at', 'text_raw': 'text'}, inplace=True)\n",
    "df.head(5)"
   ],
   "metadata": {
    "collapsed": false,
    "ExecuteTime": {
     "end_time": "2023-08-19T11:32:03.998260Z",
     "start_time": "2023-08-19T11:32:03.979230Z"
    }
   },
   "id": "aed72808fdc13d96"
  },
  {
   "cell_type": "code",
   "execution_count": 59,
   "outputs": [],
   "source": [
    "# 保存到json文件\n",
    "with open(os.path.join(\"/Users/li/Workspace/github.com/sunset_notify/records\", \"temp.json\"), \"w\",\n",
    "          encoding=\"utf-8\") as f:\n",
    "    f.write(df.to_json(orient='records', force_ascii=False, indent=4))"
   ],
   "metadata": {
    "collapsed": false,
    "ExecuteTime": {
     "end_time": "2023-08-19T11:32:06.623170Z",
     "start_time": "2023-08-19T11:32:06.619132Z"
    }
   },
   "id": "a912ed1fd69216ed"
  },
  {
   "cell_type": "code",
   "execution_count": null,
   "outputs": [],
   "source": [],
   "metadata": {
    "collapsed": false
   },
   "id": "645e2938712f259a"
  }
 ],
 "metadata": {
  "kernelspec": {
   "name": "py-neutral",
   "language": "python",
   "display_name": "py-neutral-kernal"
  },
  "language_info": {
   "codemirror_mode": {
    "name": "ipython",
    "version": 2
   },
   "file_extension": ".py",
   "mimetype": "text/x-python",
   "name": "python",
   "nbconvert_exporter": "python",
   "pygments_lexer": "ipython2",
   "version": "2.7.6"
  }
 },
 "nbformat": 4,
 "nbformat_minor": 5
}
